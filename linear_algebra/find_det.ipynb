{
 "cells": [
  {
   "metadata": {},
   "cell_type": "markdown",
   "source": [
    "<a name='1.1'></a>\n",
    "### 1.1 - System of Linear Equations\n",
    "\n",
    "Here is a **system of linear equations** (or **linear system**) with three equations and three unknown variables:\n",
    "\n",
    "\n",
    "$$\\begin{cases} \n",
    "4x_1-3x_2+x_3=-10, \\\\ 2x_1+x_2+3x_3=0, \\\\ -x_1+2x_2-5x_3=17, \\end{cases}\\tag{1}$$\n",
    "\n",
    "**To solve** this system of linear equations means to find such values of the variables $x_1$, $x_2$, $x_3$, that all of its equations are simultaneously satisfied."
   ],
   "id": "d685312138661e56"
  },
  {
   "metadata": {
    "ExecuteTime": {
     "end_time": "2024-08-05T12:54:34.129821Z",
     "start_time": "2024-08-05T12:54:33.893462Z"
    }
   },
   "cell_type": "code",
   "source": "import numpy as np",
   "id": "7f94727473e069e7",
   "outputs": [],
   "execution_count": 1
  },
  {
   "metadata": {
    "ExecuteTime": {
     "end_time": "2024-08-05T13:03:13.061526Z",
     "start_time": "2024-08-05T13:03:13.054863Z"
    }
   },
   "cell_type": "code",
   "source": [
    "A = np.array([[4,-3,1],\n",
    "             [2,1,3],\n",
    "             [-1,2,-5]], dtype=np.dtype(float))\n",
    "b = np.array([-10,0,17])\n",
    "print( A)"
   ],
   "id": "d6392c5f0d9750e3",
   "outputs": [
    {
     "name": "stdout",
     "output_type": "stream",
     "text": [
      "[[ 4. -3.  1.]\n",
      " [ 2.  1.  3.]\n",
      " [-1.  2. -5.]]\n"
     ]
    }
   ],
   "execution_count": 3
  },
  {
   "metadata": {
    "ExecuteTime": {
     "end_time": "2024-08-05T13:03:56.058707Z",
     "start_time": "2024-08-05T13:03:56.050993Z"
    }
   },
   "cell_type": "code",
   "source": "b.shape\n",
   "id": "9f6f131960dca01e",
   "outputs": [
    {
     "data": {
      "text/plain": [
       "(3,)"
      ]
     },
     "execution_count": 7,
     "metadata": {},
     "output_type": "execute_result"
    }
   ],
   "execution_count": 7
  },
  {
   "metadata": {},
   "cell_type": "markdown",
   "source": "### Find the det",
   "id": "3e743c139ce2ebd7"
  },
  {
   "metadata": {
    "ExecuteTime": {
     "end_time": "2024-08-05T13:05:41.906367Z",
     "start_time": "2024-08-05T13:05:41.898626Z"
    }
   },
   "cell_type": "code",
   "source": [
    "A_det = np.linalg.det(A)\n",
    "print(A_det)"
   ],
   "id": "fd6faf627903a090",
   "outputs": [
    {
     "name": "stdout",
     "output_type": "stream",
     "text": [
      "-60.000000000000036\n"
     ]
    }
   ],
   "execution_count": 9
  },
  {
   "metadata": {},
   "cell_type": "code",
   "outputs": [],
   "execution_count": null,
   "source": "",
   "id": "253e368518c209a8"
  }
 ],
 "metadata": {
  "kernelspec": {
   "display_name": "Python 3",
   "language": "python",
   "name": "python3"
  },
  "language_info": {
   "codemirror_mode": {
    "name": "ipython",
    "version": 2
   },
   "file_extension": ".py",
   "mimetype": "text/x-python",
   "name": "python",
   "nbconvert_exporter": "python",
   "pygments_lexer": "ipython2",
   "version": "2.7.6"
  }
 },
 "nbformat": 4,
 "nbformat_minor": 5
}
